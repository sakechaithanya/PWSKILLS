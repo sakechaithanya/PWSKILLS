{
 "cells": [
  {
   "cell_type": "markdown",
   "id": "d46a6fc0-6c14-46db-b90e-6a06d969ec93",
   "metadata": {},
   "source": [
    "\n",
    "Q1. Explain GET and POST methods:\n",
    "\n",
    "GET Method:\n",
    "\n",
    "The GET method is one of the HTTP methods used by browsers when a user requests a web page or resource.\n",
    "When a browser sends a GET request, it appends data to the URL in the form of query parameters. For example, http://example.com/page?name=John&age=25.\n",
    "It is primarily used for data retrieval and should not have the capacity to change the state of the server.\n",
    "POST Method:\n",
    "\n",
    "The POST method is another HTTP method used for submitting data to be processed to a specified resource.\n",
    "Unlike GET, POST sends data in the HTTP request body, not in the URL. This makes it suitable for sending larger amounts of data and sensitive information, as it is not visible in the URL.\n",
    "POST requests are commonly used when submitting forms on web pages."
   ]
  },
  {
   "cell_type": "markdown",
   "id": "2e2c5d1e-27f6-4952-9564-c9d8fc611108",
   "metadata": {},
   "source": [
    "q2. Why is request used in Flask?\n",
    "\n",
    "The request object in Flask provides access to incoming request data, allowing you to retrieve form data, query parameters, files, and other information sent with the request. It is an integral part of handling client-server communication. Here are some common uses of the request object:\n",
    "The request object is essential for processing and responding to client requests in a Flask application."
   ]
  },
  {
   "cell_type": "markdown",
   "id": "ec4463ff-d5ba-4ff8-a3bc-6a8d52634b55",
   "metadata": {},
   "source": [
    "Q3. Why is redirect() used in Flask?\n",
    "\n",
    "The redirect() function in Flask is used to redirect the client's web browser to a different URL. It is particularly useful after processing a form submission or completing some action to redirect "
   ]
  },
  {
   "cell_type": "markdown",
   "id": "b15f1477-86fc-498c-9525-803a8e9f5b72",
   "metadata": {},
   "source": [
    "Q4. What are templates in Flask? Why is the render_template() function used?\n",
    "\n",
    "Templates in Flask:\n",
    "\n",
    "Templates in Flask are used to separate the presentation logic from the application logic. They allow you to define the structure and layout of your HTML pages while dynamically inserting data into them.\n",
    "Flask uses the Jinja2 template engine, which provides features such as template inheritance, control structures, and variables.\n",
    "render_template() function:\n",
    "\n",
    "The render_template() function in Flask is used to render HTML templates by combining them with data.\n",
    "It takes the name of the template file as its first argument and any additional variables as keyword arguments.\n",
    "This function looks for the template file in the 'templates' folder by default (you should have a folder named 'templates' in your project directory)."
   ]
  },
  {
   "cell_type": "markdown",
   "id": "a2813ce7-2dad-4b63-a404-f3eab4f9f1ea",
   "metadata": {},
   "source": [
    "Q5. Create a simple API. Use Postman to test it. Attach the screenshot of the output in the Jupyter Notebook."
   ]
  },
  {
   "cell_type": "code",
   "execution_count": null,
   "id": "4205ea83-8ccf-482d-b581-1380a140e1fb",
   "metadata": {},
   "outputs": [],
   "source": [
    "from flask import Flask, jsonify\n",
    "\n",
    "app = Flask(__name__)\n",
    "\n",
    "@app.route('/api/greet', methods=['GET'])\n",
    "def greet():\n",
    "    return jsonify(message='Hello, this is a simple API!')\n",
    "\n",
    "if __name__ == '__main__':\n",
    "    app.run(debug=True)\n"
   ]
  },
  {
   "cell_type": "code",
   "execution_count": null,
   "id": "9a6be47a-ddc5-4a7e-8ac9-15d12d27e256",
   "metadata": {},
   "outputs": [],
   "source": []
  },
  {
   "cell_type": "code",
   "execution_count": null,
   "id": "960e9f7a-3c74-4ce0-b854-cca88ba8ec49",
   "metadata": {},
   "outputs": [],
   "source": []
  }
 ],
 "metadata": {
  "kernelspec": {
   "display_name": "Python 3 (ipykernel)",
   "language": "python",
   "name": "python3"
  },
  "language_info": {
   "codemirror_mode": {
    "name": "ipython",
    "version": 3
   },
   "file_extension": ".py",
   "mimetype": "text/x-python",
   "name": "python",
   "nbconvert_exporter": "python",
   "pygments_lexer": "ipython3",
   "version": "3.10.8"
  }
 },
 "nbformat": 4,
 "nbformat_minor": 5
}
