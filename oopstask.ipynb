{
 "cells": [
  {
   "cell_type": "markdown",
   "id": "8ed3548a-ff26-4b33-b6e8-7ff93c844b62",
   "metadata": {},
   "source": [
    "Q1, Create a vehicle class with an init method having instance variables as name_of_vehicle, max_speed\n",
    "and average_of_vehicle."
   ]
  },
  {
   "cell_type": "code",
   "execution_count": 5,
   "id": "d666a5e9-ed57-48ac-a365-24901d61c5e5",
   "metadata": {},
   "outputs": [
    {
     "name": "stdout",
     "output_type": "stream",
     "text": [
      "nano,60,50\n"
     ]
    }
   ],
   "source": [
    "class vehicle:\n",
    "    def __init__(self,name_of_vehicle,max_speed,average_of_vehicle):\n",
    "        self.average_of_vehicle=average_of_vehicle\n",
    "        self.max_speed=max_speed\n",
    "        self.name_of_vehicle=name_of_vehicle\n",
    "        \n",
    "    \n",
    "obj=vehicle(\"nano\",60,50)\n",
    "print(f\"{obj.name_of_vehicle},{obj.max_speed},{obj.average_of_vehicle}\")\n"
   ]
  },
  {
   "cell_type": "markdown",
   "id": "02240f19-409c-4cce-9420-0068f040eae4",
   "metadata": {},
   "source": [
    "Q2. Create a child class car from the vehicle class created in Que 1, which will inherit the vehicle class.\n",
    "Create a method named seating_capacity which takes capacity as an argument and returns the name of\n",
    "the vehicle and its seating capacity."
   ]
  },
  {
   "cell_type": "code",
   "execution_count": 7,
   "id": "05fa868a-2b0d-4a2c-80a0-b872bb18f19f",
   "metadata": {},
   "outputs": [],
   "source": [
    "class Car(vehicle):\n",
    "    def seating_capacity(self, capacity):\n",
    "        return f\"{self.name_of_vehicle} can seat {capacity} people.\""
   ]
  },
  {
   "cell_type": "code",
   "execution_count": 10,
   "id": "3f8e1428-02b7-456e-b1db-aa4205f432b0",
   "metadata": {},
   "outputs": [],
   "source": [
    "obj1=Car(\"nano\",60,50)"
   ]
  },
  {
   "cell_type": "code",
   "execution_count": 11,
   "id": "ab7f3683-e3b9-4ce1-b922-21022636f30b",
   "metadata": {},
   "outputs": [
    {
     "data": {
      "text/plain": [
       "'nano can seat 5 people.'"
      ]
     },
     "execution_count": 11,
     "metadata": {},
     "output_type": "execute_result"
    }
   ],
   "source": [
    "obj1.seating_capacity(5)"
   ]
  },
  {
   "cell_type": "markdown",
   "id": "e5c64ee8-f44e-4e29-9d3e-e3f59013f18e",
   "metadata": {},
   "source": [
    "Q3. What is multiple inheritance? Write a python code to demonstrate multiple inheritance."
   ]
  },
  {
   "cell_type": "code",
   "execution_count": 12,
   "id": "1310777b-1ee2-4233-a22c-cca9bad3710b",
   "metadata": {},
   "outputs": [
    {
     "name": "stdout",
     "output_type": "stream",
     "text": [
      "I am A\n",
      "I am B\n"
     ]
    }
   ],
   "source": [
    "#Multiple Inheritance:\n",
    "\n",
    "#In multiple inheritance, a class can inherit from more than one base class.\n",
    "#This allows the derived class to inherit attributes and methods from multiple sources.\n",
    "\n",
    "class A:\n",
    "    def detail1(self):\n",
    "        print(\"I am A\")\n",
    "class B:\n",
    "    def detail2(self):\n",
    "        print(\"I am B\") \n",
    "class C(A,B):\n",
    "    def detail3(self):\n",
    "        print(\"I am C\")\n",
    "obj=C()\n",
    "obj.detail1()\n",
    "obj.detail2()\n"
   ]
  },
  {
   "cell_type": "markdown",
   "id": "4e5338c3-1177-4601-96ba-25d3f9be900b",
   "metadata": {},
   "source": [
    "Q4. What are getter and setter in python? Create a class and create a getter and a setter method in this\n",
    "class."
   ]
  },
  {
   "cell_type": "markdown",
   "id": "06dca377-75bc-4c2a-880d-2dd0a21f5f5e",
   "metadata": {},
   "source": [
    "In Python, getter and setter methods are used to access and modify the attributes of a class in a controlled and encapsulated manner. Getter methods allow you to retrieve the values of class attributes, and setter methods enable you to modify those values, typically with additional logic or validation. This is a way to implement data encapsulation and maintain control over access to class attributes."
   ]
  },
  {
   "cell_type": "code",
   "execution_count": 13,
   "id": "e2f9fe18-8576-4ece-b3cd-9761a1fada81",
   "metadata": {},
   "outputs": [
    {
     "name": "stdout",
     "output_type": "stream",
     "text": [
      "Student Name: Alice\n",
      "Student Age: 20\n",
      "Updated Student Name: Bob\n",
      "Updated Student Age: 25\n"
     ]
    }
   ],
   "source": [
    "class Student:\n",
    "    def __init__(self, name, age):\n",
    "        self._name = name  # Prefixing with '_' to indicate it's a protected attribute\n",
    "        self._age = age\n",
    "\n",
    "    # Getter method for name\n",
    "    def get_name(self):\n",
    "        return self._name\n",
    "\n",
    "    # Setter method for name\n",
    "    def set_name(self, name):\n",
    "        if len(name) < 50:\n",
    "            self._name = name\n",
    "        else:\n",
    "            print(\"Name is too long. Please provide a shorter name.\")\n",
    "\n",
    "    # Getter method for age\n",
    "    def get_age(self):\n",
    "        return self._age\n",
    "\n",
    "    # Setter method for age\n",
    "    def set_age(self, age):\n",
    "        if 0 <= age <= 150:\n",
    "            self._age = age\n",
    "        else:\n",
    "            print(\"Invalid age. Please provide an age between 0 and 150.\")\n",
    "\n",
    "# Creating an instance of the Student class\n",
    "student = Student(\"Alice\", 20)\n",
    "\n",
    "# Using getter methods to access attributes\n",
    "print(f\"Student Name: {student.get_name()}\")\n",
    "print(f\"Student Age: {student.get_age()}\")\n",
    "\n",
    "# Using setter methods to modify attributes\n",
    "student.set_name(\"Bob\")\n",
    "student.set_age(25)\n",
    "\n",
    "# Using getter methods again to verify the changes\n",
    "print(f\"Updated Student Name: {student.get_name()}\")\n",
    "print(f\"Updated Student Age: {student.get_age()}\")\n"
   ]
  },
  {
   "cell_type": "markdown",
   "id": "115d3460-1c51-4518-89ac-1017ad4ffb9e",
   "metadata": {},
   "source": [
    "Q5.What is method overriding in python? Write a python code to demonstrate method overriding."
   ]
  },
  {
   "cell_type": "markdown",
   "id": "68197aaa-b122-47af-b541-d78fa24ca95e",
   "metadata": {},
   "source": [
    "Method overriding in Python is a concept in object-oriented programming where a subclass provides a specific implementation for a method that is already defined in its superclass. This allows the subclass to customize the behavior of the inherited method while preserving the method's name and signature.\n",
    "\n",
    "In method overriding, the method in the subclass must have the same name, the same number, and types of parameters, and the same return type as the method in the superclass. When you call the overridden method on an object of the subclass, the subclass's implementation is executed."
   ]
  },
  {
   "cell_type": "code",
   "execution_count": 14,
   "id": "b35fe54a-bb5b-4d4c-8bfa-08b4dffac85b",
   "metadata": {},
   "outputs": [
    {
     "name": "stdout",
     "output_type": "stream",
     "text": [
      "Animal speaks\n",
      "Dog barks\n",
      "Cat meows\n"
     ]
    }
   ],
   "source": [
    "class Animal:\n",
    "    def speak(self):\n",
    "        print(\"Animal speaks\")\n",
    "\n",
    "class Dog(Animal):\n",
    "    def speak(self):\n",
    "        print(\"Dog barks\")\n",
    "\n",
    "class Cat(Animal):\n",
    "    def speak(self):\n",
    "        print(\"Cat meows\")\n",
    "\n",
    "# Create instances of the subclasses\n",
    "animal = Animal()\n",
    "dog = Dog()\n",
    "cat = Cat()\n",
    "\n",
    "# Call the speak method on each object\n",
    "animal.speak()  # Outputs: Animal speaks\n",
    "dog.speak()     # Outputs: Dog barks\n",
    "cat.speak()     # Outputs: Cat meows\n"
   ]
  },
  {
   "cell_type": "code",
   "execution_count": null,
   "id": "3b892e6c-7118-413f-a4ad-33ef43ab8b0d",
   "metadata": {},
   "outputs": [],
   "source": []
  }
 ],
 "metadata": {
  "kernelspec": {
   "display_name": "Python 3 (ipykernel)",
   "language": "python",
   "name": "python3"
  },
  "language_info": {
   "codemirror_mode": {
    "name": "ipython",
    "version": 3
   },
   "file_extension": ".py",
   "mimetype": "text/x-python",
   "name": "python",
   "nbconvert_exporter": "python",
   "pygments_lexer": "ipython3",
   "version": "3.10.8"
  }
 },
 "nbformat": 4,
 "nbformat_minor": 5
}
