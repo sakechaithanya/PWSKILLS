{
 "cells": [
  {
   "cell_type": "markdown",
   "id": "dd115e84-5359-481c-a85b-2df11cc3e839",
   "metadata": {},
   "source": [
    "Q1. How do you comment code in Python? What are the different types of comments?"
   ]
  },
  {
   "cell_type": "code",
   "execution_count": null,
   "id": "6666082c-2f6c-4310-b5e3-4c532d895e41",
   "metadata": {},
   "outputs": [],
   "source": [
    "#pw skills\n",
    "'''\n",
    "pw skills\n",
    "i neuron\n",
    "'''"
   ]
  },
  {
   "cell_type": "markdown",
   "id": "e1cde35a-8aa6-4f68-b2e1-ff269df97189",
   "metadata": {},
   "source": [
    "Q2. What are variables in Python? How do you declare and assign values to variables?"
   ]
  },
  {
   "cell_type": "markdown",
   "id": "639d1c37-b3f1-47c2-b1e2-324623ac20a6",
   "metadata": {},
   "source": [
    "A variable is a string of characters and numbers associated with a piece of information. The assignment operator, denoted by the “=” symbol, is the operator that is used to assign values to variables in Python. The line x=1 takes the known value, 1, and assigns that value to the variable with name “x”."
   ]
  },
  {
   "cell_type": "markdown",
   "id": "323000a2-4743-402c-b679-f671b1bf86f2",
   "metadata": {},
   "source": [
    "Q3. How do you convert one data type to another in Python?"
   ]
  },
  {
   "cell_type": "code",
   "execution_count": 2,
   "id": "72b1744d-4691-43e0-aec4-db723eaf60ac",
   "metadata": {},
   "outputs": [
    {
     "data": {
      "text/plain": [
       "int"
      ]
     },
     "execution_count": 2,
     "metadata": {},
     "output_type": "execute_result"
    }
   ],
   "source": [
    "##Typecasting\n",
    "a=10\n",
    "type(a)"
   ]
  },
  {
   "cell_type": "code",
   "execution_count": 3,
   "id": "df67a87a-a28f-4038-a6cb-45f4a7f0c0ee",
   "metadata": {},
   "outputs": [
    {
     "data": {
      "text/plain": [
       "10.0"
      ]
     },
     "execution_count": 3,
     "metadata": {},
     "output_type": "execute_result"
    }
   ],
   "source": [
    "float(a)"
   ]
  },
  {
   "cell_type": "markdown",
   "id": "a637e8e0-fb3e-4668-8f68-44a5b49be049",
   "metadata": {},
   "source": [
    "Q4. How do you write and execute a Python script from the command line?\n",
    "\n",
    "\n",
    "open a command line and type the word python followed by the path to your script file"
   ]
  },
  {
   "cell_type": "markdown",
   "id": "d1cdcf71-3970-4b5c-b702-2b6d7e529b4e",
   "metadata": {},
   "source": [
    "Q5. Given a list my_list = [1, 2, 3, 4, 5], write the code to slice the list and obtain the sub-list [2, 3]."
   ]
  },
  {
   "cell_type": "code",
   "execution_count": 4,
   "id": "d7704f85-dc62-49df-9c1b-b565680552ed",
   "metadata": {},
   "outputs": [
    {
     "data": {
      "text/plain": [
       "[2, 3]"
      ]
     },
     "execution_count": 4,
     "metadata": {},
     "output_type": "execute_result"
    }
   ],
   "source": [
    "my_list = [1, 2, 3, 4, 5]\n",
    "my_list[1:3]"
   ]
  },
  {
   "cell_type": "markdown",
   "id": "e092b412-579e-41ed-9f26-0ff9d4c3f049",
   "metadata": {},
   "source": [
    "Q6. What is a complex number in mathematics, and how is it represented in Python?\n",
    " (x + yj) where x and y are real numbers and j is an imaginary number which is the square root of -1. ex:4+i5"
   ]
  },
  {
   "cell_type": "markdown",
   "id": "791377be-b2ad-4cf9-9c9a-22e8b2a6cbd9",
   "metadata": {},
   "source": [
    "Q7. What is the correct way to declare a variable named age and assign the value 25 to it?"
   ]
  },
  {
   "cell_type": "code",
   "execution_count": 5,
   "id": "daf70310-f8f7-470e-a030-14874e9a39cd",
   "metadata": {},
   "outputs": [
    {
     "data": {
      "text/plain": [
       "25"
      ]
     },
     "execution_count": 5,
     "metadata": {},
     "output_type": "execute_result"
    }
   ],
   "source": [
    "age=25\n",
    "age"
   ]
  },
  {
   "cell_type": "markdown",
   "id": "fb2b3197-a787-48c0-b263-4ea078bd9fb0",
   "metadata": {},
   "source": [
    "Q8. Declare a variable named price and assign the value 9.99 to it. What data type does this variable\n",
    "belong to?"
   ]
  },
  {
   "cell_type": "code",
   "execution_count": 6,
   "id": "91a15aae-408d-4e78-8d66-80f4171b7f4f",
   "metadata": {},
   "outputs": [
    {
     "data": {
      "text/plain": [
       "float"
      ]
     },
     "execution_count": 6,
     "metadata": {},
     "output_type": "execute_result"
    }
   ],
   "source": [
    "price=9.99\n",
    "type(price)"
   ]
  },
  {
   "cell_type": "markdown",
   "id": "eb9863a3-6c23-45f8-9e17-1e033c52c725",
   "metadata": {},
   "source": [
    "Q9. Create a variable named name and assign your full name to it as a string. How would you print the\n",
    "value of this variable?"
   ]
  },
  {
   "cell_type": "code",
   "execution_count": 7,
   "id": "8ac1e282-bdb4-4ac7-87af-3050653412b6",
   "metadata": {},
   "outputs": [
    {
     "data": {
      "text/plain": [
       "'sake chaitanya lakshmi'"
      ]
     },
     "execution_count": 7,
     "metadata": {},
     "output_type": "execute_result"
    }
   ],
   "source": [
    "name=\"sake chaitanya lakshmi\"\n",
    "name"
   ]
  },
  {
   "cell_type": "markdown",
   "id": "2497d697-0073-4604-aec8-4a474c220053",
   "metadata": {},
   "source": [
    "Q10. Given the string \"Hello, World!\", extract the substring \"World\"."
   ]
  },
  {
   "cell_type": "code",
   "execution_count": 15,
   "id": "88f54da8-bfb8-4b65-8ae9-d81a6370a0d2",
   "metadata": {},
   "outputs": [
    {
     "data": {
      "text/plain": [
       "' World'"
      ]
     },
     "execution_count": 15,
     "metadata": {},
     "output_type": "execute_result"
    }
   ],
   "source": [
    "a=\"Hello, World!\"\n",
    "a[6:12]"
   ]
  },
  {
   "cell_type": "markdown",
   "id": "e9294c8f-ea08-43a3-88e7-a7f85b6b5564",
   "metadata": {},
   "source": [
    "Q11. Create a variable named \"is_student\" and assign it a boolean value indicating whether you are\n",
    "currently a student or not."
   ]
  },
  {
   "cell_type": "code",
   "execution_count": null,
   "id": "95325ba1-e5a7-42f3-9291-9642572170de",
   "metadata": {},
   "outputs": [],
   "source": [
    "is_student=True\n",
    "if is_student==True:\n",
    "    print()"
   ]
  },
  {
   "cell_type": "code",
   "execution_count": null,
   "id": "e25150bd-b0f2-415f-9f24-dfc92a9483f4",
   "metadata": {},
   "outputs": [],
   "source": []
  },
  {
   "cell_type": "code",
   "execution_count": null,
   "id": "ec9a62fc-fd12-4dbb-a27e-1dc22b0c6b77",
   "metadata": {},
   "outputs": [],
   "source": []
  },
  {
   "cell_type": "code",
   "execution_count": null,
   "id": "f4fab819-96c8-4eac-b403-d54688d0c343",
   "metadata": {},
   "outputs": [],
   "source": []
  },
  {
   "cell_type": "code",
   "execution_count": null,
   "id": "343b8f6c-381e-4f36-8db5-022df434b2b9",
   "metadata": {},
   "outputs": [],
   "source": []
  }
 ],
 "metadata": {
  "kernelspec": {
   "display_name": "Python 3 (ipykernel)",
   "language": "python",
   "name": "python3"
  },
  "language_info": {
   "codemirror_mode": {
    "name": "ipython",
    "version": 3
   },
   "file_extension": ".py",
   "mimetype": "text/x-python",
   "name": "python",
   "nbconvert_exporter": "python",
   "pygments_lexer": "ipython3",
   "version": "3.10.8"
  }
 },
 "nbformat": 4,
 "nbformat_minor": 5
}
