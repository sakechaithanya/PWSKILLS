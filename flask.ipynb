{
 "cells": [
  {
   "cell_type": "markdown",
   "id": "3a762cf9-e0e4-410f-a90b-51ac2098ae15",
   "metadata": {},
   "source": [
    "Q1. What is Flask Framework? What are the advantages of Flask Framework?\n",
    "\n",
    "Flask is a lightweight and flexible web framework for Python. It is designed to be simple and easy to use, providing the essentials for building web applications without imposing too much structure. Flask is often referred to as a micro-framework because it focuses on simplicity and allows developers to choose the tools and libraries they want to use.\n",
    "\n",
    "Advantages of Flask Framework:\n",
    "\n",
    "Simplicity: Flask follows a minimalistic approach, keeping the core simple and leaving room for developers to choose and integrate additional tools as needed. This simplicity makes it easy for beginners to get started and for experienced developers to have more control over the application structure.\n",
    "\n",
    "Flexibility: Flask is unopinionated, allowing developers to make their own choices regarding database, template engine, and other components. This flexibility is valuable when the project requires specific tools or when developers have strong preferences.\n",
    "\n",
    "Extensibility: Flask is designed to be extensible, meaning you can easily add third-party extensions to enhance functionality. There is a wide range of Flask extensions available for tasks such as authentication, form handling, and database integration.\n",
    "\n",
    "Jinja2 Templating: Flask uses the Jinja2 templating engine, which provides a powerful and flexible way to generate dynamic content in HTML templates. Jinja2 allows for template inheritance, which simplifies the organization of code in larger projects.\n",
    "\n",
    "Built-in Development Server: Flask comes with a built-in development server that makes it easy to test and debug applications during development. While this server is not suitable for production, it is convenient for local testing.\n",
    "\n",
    "Werkzeug Integration: Flask is built on top of the Werkzeug WSGI toolkit, which provides a solid foundation for handling HTTP requests and responses. This integration helps Flask maintain a clean and simple codebase.\n",
    "\n",
    "Active Community: Flask has a large and active community of developers. This means there are plenty of tutorials, documentation, and third-party resources available. Additionally, the active community often results in timely updates and improvements.\n",
    "\n",
    "Scalability: While Flask is often used for small to medium-sized projects, it can also be used for larger applications. Its flexibility allows developers to scale the application as needed by incorporating additional tools and best practices."
   ]
  },
  {
   "cell_type": "markdown",
   "id": "ce509366-7da2-447a-a9e9-fc683be02dfb",
   "metadata": {},
   "source": [
    "Q2. Create a simple Flask application to display ‘Hello World!!’. Attach the screenshot of the output in\n",
    "Jupyter Notebook.\n",
    "\n",
    "from flask import Flask\n",
    "\n",
    "app = Flask(__name__)\n",
    "\n",
    "@app.route(\"/\")\n",
    "def hello_world():\n",
    "    return \"Hello, World!\"\n",
    "\n",
    "if __name__==\"__main__\":\n",
    "    app.run(host=\"0.0.0.0\")\n",
    "#https://white-salesmen-csddb.pwskills.app:5000/"
   ]
  },
  {
   "cell_type": "markdown",
   "id": "1b2de167-10d4-4896-890f-f61daece756a",
   "metadata": {},
   "source": [
    "Q3. What is App routing in Flask? Why do we use app routes?\n",
    "\n",
    "App Routing in Flask:\n",
    "\n",
    "In Flask, app routing refers to the process of defining URL patterns (routes) that correspond to different views or functions within your web application. When a user makes a request to a specific URL, Flask's routing system determines which function (view) should handle that request. This is accomplished using decorators in Python, specifically the @app.route decorator in Flask.\n",
    "\n",
    "Why Do We Use App Routes in Flask?\n",
    "\n",
    "URL Mapping: App routes allow you to map specific URLs to the functions that handle the corresponding requests. This makes it easy to organize and structure your application.\n",
    "\n",
    "Modularity: By using app routes, you can break down your application into modular components, where each route corresponds to a specific functionality or page. This modular structure improves code organization and readability.\n",
    "\n",
    "Code Separation: App routes help in separating the concerns of different parts of your application. Each route and its associated function can focus on a specific feature or task.\n",
    "\n",
    "Ease of Maintenance: As your application grows, using app routes makes it easier to maintain and update specific sections. You can add, modify, or remove routes without affecting the entire application.\n",
    "\n",
    "Readability and Maintainability: App routes make your code more readable by providing a clear structure. It's easy for developers to understand which functions handle which URLs, enhancing the maintainability of the codebase.\n",
    "\n",
    "RESTful API Design: When building RESTful APIs with Flask, app routes play a crucial role in defining the different endpoints for handling various HTTP methods (GET, POST, PUT, DELETE, etc.)."
   ]
  },
  {
   "cell_type": "markdown",
   "id": "f1816304-9d2d-48bb-a858-c37115799503",
   "metadata": {},
   "source": [
    "Q4. Create a “/welcome” route to display the welcome message “Welcome to ABC Corporation” and a “/”\n",
    "route to show the following details:\n",
    "Company Name: ABC Corporation\n",
    "Location: India\n",
    "Contact Detail: 999-999-9999\n",
    "\n",
    "from flask import Flask\n",
    "\n",
    "app = Flask(__name__)\n",
    "\n",
    "@app.route(\"/welcome\")\n",
    "def welcome():\n",
    "    return '''Welcome to ABC Corporation\n",
    "        Company Name: ABC Corporation\n",
    "        Location: India\n",
    "        Contact Detail: 999-999-9999'''\n",
    "\n",
    "if __name__==\"__main__\":\n",
    "    app.run(host=\"0.0.0.0\")\n",
    "    \n",
    "#https://white-salesmen-csddb.pwskills.app:5000/welcome"
   ]
  },
  {
   "cell_type": "markdown",
   "id": "1f5741b7-d776-414a-9615-ecafe5007c12",
   "metadata": {},
   "source": [
    "Q5. What function is used in Flask for URL Building? Write a Python code to demonstrate the working of the\n",
    "url_for() function.\n",
    "\n",
    "In Flask, the url_for() function is used for URL building. It generates a URL for the specified endpoint, taking into account the routing rules defined in your application. This function is particularly useful because it allows you to avoid hardcoding URLs in your templates or code, making your application more maintainable.\n",
    "\n",
    "from flask import Flask, url_for\n",
    "\n",
    "app = Flask(__name__)\n",
    "\n",
    "# Define two routes with different endpoint names\n",
    "@app.route('/')\n",
    "def home():\n",
    "    return 'Home Page'\n",
    "\n",
    "@app.route('/about')\n",
    "def about():\n",
    "    return 'About Page'\n",
    "\n",
    "if __name__ == '__main__':\n",
    "    with app.test_request_context():\n",
    "        # Using url_for to generate URLs for the specified endpoints\n",
    "        home_url = url_for('home')\n",
    "        about_url = url_for('about')\n",
    "\n",
    "        # Print the generated URLs\n",
    "        print('Home URL:', home_url)\n",
    "        print('About URL:', about_url)\n",
    "\n"
   ]
  },
  {
   "cell_type": "code",
   "execution_count": null,
   "id": "6c2d6032-ed14-4c83-b119-5a4e86274c83",
   "metadata": {},
   "outputs": [],
   "source": []
  },
  {
   "cell_type": "code",
   "execution_count": null,
   "id": "2bb9b8ce-b1ef-439e-bee6-7121e69ae017",
   "metadata": {},
   "outputs": [],
   "source": []
  },
  {
   "cell_type": "code",
   "execution_count": null,
   "id": "4927efc1-b1c0-45f0-847a-19b07b89b7d2",
   "metadata": {},
   "outputs": [],
   "source": []
  },
  {
   "cell_type": "code",
   "execution_count": null,
   "id": "1e6c9897-3297-4346-9f82-229c1b55a98e",
   "metadata": {},
   "outputs": [],
   "source": []
  }
 ],
 "metadata": {
  "kernelspec": {
   "display_name": "Python 3 (ipykernel)",
   "language": "python",
   "name": "python3"
  },
  "language_info": {
   "codemirror_mode": {
    "name": "ipython",
    "version": 3
   },
   "file_extension": ".py",
   "mimetype": "text/x-python",
   "name": "python",
   "nbconvert_exporter": "python",
   "pygments_lexer": "ipython3",
   "version": "3.10.8"
  }
 },
 "nbformat": 4,
 "nbformat_minor": 5
}
