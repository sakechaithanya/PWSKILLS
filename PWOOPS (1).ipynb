{
 "cells": [
  {
   "cell_type": "markdown",
   "id": "6f3690c8-b3f0-4a0f-9140-2c54ea93464a",
   "metadata": {},
   "source": [
    "Q1. Explain Class and Object with respect to Object-Oriented Programming. Give a suitable example."
   ]
  },
  {
   "cell_type": "markdown",
   "id": "a3306c10-3000-4bcf-86fb-d21488c2d8fa",
   "metadata": {},
   "source": [
    "A class is a blueprint or a template for creating objects. It defines the attributes (data) and methods (functions) that objects of that class will have. It acts as a prototype for creating multiple objects with similar properties and behaviors.\n",
    "\n",
    "An object is an instance of a class. It is a concrete realization of the class's blueprint, with its own unique data values. Objects can interact with each other and perform actions defined in the class methods."
   ]
  },
  {
   "cell_type": "code",
   "execution_count": 3,
   "id": "1c1b323e-8671-41c5-8dfa-e50d285139e2",
   "metadata": {},
   "outputs": [],
   "source": [
    "class sake:                #class\n",
    "    def fun(self):\n",
    "        print(\"prints the fun function\")"
   ]
  },
  {
   "cell_type": "code",
   "execution_count": 7,
   "id": "dd5e8f31-7aed-4764-8cac-91117365ef12",
   "metadata": {},
   "outputs": [
    {
     "name": "stdout",
     "output_type": "stream",
     "text": [
      "prints the fun function\n"
     ]
    }
   ],
   "source": [
    "obj=sake() #object\n",
    "obj.fun()"
   ]
  },
  {
   "cell_type": "markdown",
   "id": "ee6fac51-01fe-422e-9739-d0734fcd0171",
   "metadata": {},
   "source": [
    "Q2. Name the four pillars of OOPs.\n",
    "\n",
    "The four pillars of Object-Oriented Programming (OOP) are:\n",
    "\n",
    "Encapsulation: Encapsulation refers to the bundling of data (attributes) and methods (functions) that operate on that data into a single unit known as a class. It hides the internal implementation details of a class and provides a public interface for interacting with objects of that class. Encapsulation helps in controlling access to data and ensures that data is modified or accessed only through defined methods, which enhances data security and maintainability.\n",
    "\n",
    "Abstraction: Abstraction involves simplifying complex reality by modeling classes based on the essential characteristics and behaviors, while hiding unnecessary details. It allows you to focus on what an object does rather than how it does it. Abstraction helps in managing complexity, making the code more understandable and maintainable.\n",
    "\n",
    "Inheritance: Inheritance is a mechanism that allows one class to inherit the attributes and methods of another class. It promotes code reuse by creating a new class (derived or subclass) based on an existing class (base or superclass). Inheritance enables the extension and specialization of classes, reducing redundancy in code and facilitating the creation of hierarchies of related classes.\n",
    "\n",
    "Polymorphism: Polymorphism means \"many shapes\" and is a fundamental concept in OOP. It allows objects of different classes to be treated as objects of a common base class. Polymorphism enables the ability to define methods in a generic way in the base class and override them in derived classes, providing different implementations. This allows you to write more flexible and generic code that can work with objects of various types."
   ]
  },
  {
   "cell_type": "markdown",
   "id": "7b7c51e9-3632-4db4-af37-9830be44add0",
   "metadata": {},
   "source": [
    "Q3. Explain why the __init__() function is used. Give a suitable example.\n",
    "\n",
    "The __init__() function, often referred to as the constructor, is a special method in Python classes. It is used to initialize the attributes or properties of an object when an instance of a class is created. This method is automatically called when you create a new object from a class. \n"
   ]
  },
  {
   "cell_type": "code",
   "execution_count": 26,
   "id": "9726f398-4caa-4f7d-ab7f-406616296a50",
   "metadata": {},
   "outputs": [],
   "source": [
    "class tej:\n",
    "    def __init__(self,quality,job):\n",
    "            self.quality=quality\n",
    "            self.job=job\n",
    "            \n",
    "    def details(self):\n",
    "        print(self.quality,self.job)"
   ]
  },
  {
   "cell_type": "code",
   "execution_count": 27,
   "id": "df09fca5-af3a-49a8-9565-8d2c6ee485bd",
   "metadata": {},
   "outputs": [
    {
     "name": "stdout",
     "output_type": "stream",
     "text": [
      "helping sales\n"
     ]
    }
   ],
   "source": [
    "obj1=tej(\"helping\",\"sales\")\n",
    "obj1.details()"
   ]
  },
  {
   "cell_type": "markdown",
   "id": "65e56a51-f544-4af8-b673-03f6291869f7",
   "metadata": {},
   "source": [
    "Q4. Why self is used in OOPs?\n",
    "\n",
    "In Object-Oriented Programming (OOP), the self keyword is used to refer to the instance of a class (i.e., the object itself) within the class's methods. It is a convention used in Python and some other object-oriented languages to distinguish between instance variables and local variables within a class."
   ]
  },
  {
   "cell_type": "markdown",
   "id": "087ce8b1-5d42-4d4b-bf4e-e136d98a188d",
   "metadata": {},
   "source": [
    "Q5. What is inheritance? Give an example for each type of inheritance."
   ]
  },
  {
   "cell_type": "markdown",
   "id": "3649b83f-b721-42cb-80e4-90ff0087743c",
   "metadata": {},
   "source": [
    "Inheritance is one of the fundamental concepts in Object-Oriented Programming (OOP). It allows a class to inherit attributes and methods from another class, creating a hierarchical relationship between classes. Inheritance promotes code reuse and the creation of new classes based on existing ones. There are several types of inheritance:\n",
    "\n",
    "Single Inheritance:\n",
    "\n",
    "In single inheritance, a class inherits from only one base class. This is the simplest form of inheritance."
   ]
  },
  {
   "cell_type": "code",
   "execution_count": 28,
   "id": "3c060a4e-6d3e-4d98-8cff-6d47f1ef2297",
   "metadata": {},
   "outputs": [
    {
     "name": "stdout",
     "output_type": "stream",
     "text": [
      "men will be men\n"
     ]
    }
   ],
   "source": [
    "class Human:\n",
    "    def Men(self):\n",
    "        print(\"men will be men\")\n",
    "\n",
    "class human(Human):\n",
    "    def women(self):\n",
    "        print(\"wo(men)\")\n",
    "\n",
    "obj=human()\n",
    "obj.Men()"
   ]
  },
  {
   "cell_type": "markdown",
   "id": "eee4e04c-6881-4190-b210-7353aa9847c6",
   "metadata": {},
   "source": [
    "Multiple Inheritance:\n",
    "\n",
    "In multiple inheritance, a class can inherit from more than one base class. This allows the derived class to inherit attributes and methods from multiple sources."
   ]
  },
  {
   "cell_type": "code",
   "execution_count": 30,
   "id": "a5fda775-5cb8-4f9e-9df2-c97220fe8fad",
   "metadata": {},
   "outputs": [
    {
     "name": "stdout",
     "output_type": "stream",
     "text": [
      "I am A\n",
      "I am B\n"
     ]
    }
   ],
   "source": [
    "class A:\n",
    "    def detail1(self):\n",
    "        print(\"I am A\")\n",
    "class B:\n",
    "    def detail2(self):\n",
    "        print(\"I am B\") \n",
    "class C(A,B):\n",
    "    def detail3(self):\n",
    "        print(\"I am C\")\n",
    "obj=C()\n",
    "obj.detail1()\n",
    "obj.detail2()"
   ]
  },
  {
   "cell_type": "markdown",
   "id": "59704853-b62f-412a-a1ed-87819db9ba5b",
   "metadata": {},
   "source": [
    "Multilevel Inheritance:\n",
    "\n",
    "In multilevel inheritance, a class inherits from another class, which in turn inherits from another class. This creates a chain of inheritance."
   ]
  },
  {
   "cell_type": "code",
   "execution_count": 1,
   "id": "723d8118-f23c-4270-9dfd-784e122bd3fc",
   "metadata": {},
   "outputs": [
    {
     "name": "stdout",
     "output_type": "stream",
     "text": [
      "grandfather age be 75 years old\n",
      "father age be 50 years old \n",
      "son age be 20 years old \n"
     ]
    }
   ],
   "source": [
    "class grandfather:\n",
    "    def ageg(self):\n",
    "        print(\"grandfather age be 75 years old\")\n",
    "\n",
    "class father(grandfather):\n",
    "    def agef(self):\n",
    "        print(\"father age be 50 years old \")\n",
    "        \n",
    "class  son(father):\n",
    "     def ages(self):\n",
    "        print(\"son age be 20 years old \")\n",
    "\n",
    "        \n",
    "obj=son()\n",
    "obj.ageg()\n",
    "obj.agef()\n",
    "obj.ages()\n",
    "\n"
   ]
  },
  {
   "cell_type": "markdown",
   "id": "a0f5e5ff-dcee-4670-9f41-e25234aa9f03",
   "metadata": {},
   "source": [
    "Hierarchical Inheritance:\n",
    "\n",
    "In hierarchical inheritance, multiple classes inherit from a common base class. Each subclass shares the attributes and methods of the base class."
   ]
  },
  {
   "cell_type": "code",
   "execution_count": 3,
   "id": "7f1f7bca-1049-4195-9b8c-59059ca1b786",
   "metadata": {},
   "outputs": [
    {
     "name": "stdout",
     "output_type": "stream",
     "text": [
      "I am A\n"
     ]
    }
   ],
   "source": [
    "class A:\n",
    "    def detail(self):\n",
    "        print(\"I am A\")\n",
    "class B(A):\n",
    "    def detail1(self):\n",
    "        print(\"I am B\")\n",
    "class C(B):\n",
    "    def detail2(self):\n",
    "        print(\"I am C\")\n",
    "        \n",
    "ob= C()\n",
    "ob.detail()"
   ]
  },
  {
   "cell_type": "markdown",
   "id": "06450f5c-ac0d-4d2a-8d2b-f164f56cfd41",
   "metadata": {},
   "source": [
    "Hybrid Inheritance:\n",
    "\n",
    "Hybrid inheritance is a combination of two or more types of inheritance. It can involve a mix of single, multiple, and hierarchical inheritance within the same program.\n",
    "\n",
    "Example scenarios that involve multiple types of inheritance are complex and often arise in advanced programming situations. Hybrid inheritance is a powerful but potentially complicated concept, and it should be used with care."
   ]
  },
  {
   "cell_type": "code",
   "execution_count": null,
   "id": "6402624a-993b-4848-8ea5-616d85f4018d",
   "metadata": {},
   "outputs": [],
   "source": []
  },
  {
   "cell_type": "code",
   "execution_count": null,
   "id": "a4725a41-e3af-458c-9356-53a50cf70a82",
   "metadata": {},
   "outputs": [],
   "source": []
  },
  {
   "cell_type": "code",
   "execution_count": null,
   "id": "6d5b555a-5942-4453-960a-605fd268b0d3",
   "metadata": {},
   "outputs": [],
   "source": []
  },
  {
   "cell_type": "code",
   "execution_count": null,
   "id": "0c9cea49-1807-450b-b0de-b66b6178b214",
   "metadata": {},
   "outputs": [],
   "source": []
  },
  {
   "cell_type": "code",
   "execution_count": null,
   "id": "829b08cc-2cce-40a0-9bd2-b0c0c741a0e3",
   "metadata": {},
   "outputs": [],
   "source": []
  },
  {
   "cell_type": "code",
   "execution_count": null,
   "id": "a336de76-edd3-438c-b1bc-b4b6b3e5993e",
   "metadata": {},
   "outputs": [],
   "source": []
  }
 ],
 "metadata": {
  "kernelspec": {
   "display_name": "Python 3 (ipykernel)",
   "language": "python",
   "name": "python3"
  },
  "language_info": {
   "codemirror_mode": {
    "name": "ipython",
    "version": 3
   },
   "file_extension": ".py",
   "mimetype": "text/x-python",
   "name": "python",
   "nbconvert_exporter": "python",
   "pygments_lexer": "ipython3",
   "version": "3.10.8"
  }
 },
 "nbformat": 4,
 "nbformat_minor": 5
}
