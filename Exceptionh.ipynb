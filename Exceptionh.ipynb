{
 "cells": [
  {
   "cell_type": "markdown",
   "id": "eb469925-680e-44a6-92da-51e0ffbc7deb",
   "metadata": {},
   "source": [
    "What is an Exception in python? Write the difference between Exceptions and \n",
    "syntax errors"
   ]
  },
  {
   "cell_type": "markdown",
   "id": "24471c00-a1a5-4f69-b537-f10817038620",
   "metadata": {},
   "source": [
    "In Python, an exception is an event that occurs during the execution of a program that disrupts the normal flow of the program's instructions. When a Python script encounters a situation that it cannot cope with, it raises an exception. Exceptions are a way of handling errors and exceptional situations in a program.\n",
    "\n",
    "Exceptions:\n",
    "\n",
    "Exceptions occur during the runtime of a program.\n",
    "They are typically caused by logical errors or unexpected conditions in the code.\n",
    "Examples include ZeroDivisionError, TypeError, and FileNotFoundError.\n",
    "\n",
    "Syntax Errors:\n",
    "\n",
    "Syntax errors occur during the parsing of the code, before the program is executed.\n",
    "They are caused by violations of the Python syntax rules.\n",
    "Examples include missing colons, mismatched parentheses, or using an undefined variable."
   ]
  },
  {
   "cell_type": "markdown",
   "id": "b4a97094-ed3f-40c3-8236-d9bdf1e84691",
   "metadata": {},
   "source": [
    "What happens when an exception is not handled? Explain withan example"
   ]
  },
  {
   "cell_type": "markdown",
   "id": "f0cdea8f-5de6-4c0f-8f14-cf5c697576b5",
   "metadata": {},
   "source": [
    "When an exception is not handled in Python, it propagates up the call stack until it either reaches the top level of the program (resulting in the termination of the program) or encounters a suitable exception handler (an except block) that can handle the exception. If no handler is found, the program typically terminates, and an error message, along with a traceback, is printed to the console."
   ]
  },
  {
   "cell_type": "code",
   "execution_count": 1,
   "id": "12c256cb-be86-4ecc-9aae-cdc8810e6735",
   "metadata": {},
   "outputs": [
    {
     "ename": "ZeroDivisionError",
     "evalue": "division by zero",
     "output_type": "error",
     "traceback": [
      "\u001b[0;31m---------------------------------------------------------------------------\u001b[0m",
      "\u001b[0;31mZeroDivisionError\u001b[0m                         Traceback (most recent call last)",
      "Cell \u001b[0;32mIn[1], line 6\u001b[0m\n\u001b[1;32m      3\u001b[0m     \u001b[38;5;28;01mreturn\u001b[39;00m result\n\u001b[1;32m      5\u001b[0m \u001b[38;5;66;03m# This function will raise a ZeroDivisionError when called\u001b[39;00m\n\u001b[0;32m----> 6\u001b[0m result \u001b[38;5;241m=\u001b[39m \u001b[43mdivide_numbers\u001b[49m\u001b[43m(\u001b[49m\u001b[38;5;241;43m10\u001b[39;49m\u001b[43m,\u001b[49m\u001b[43m \u001b[49m\u001b[38;5;241;43m0\u001b[39;49m\u001b[43m)\u001b[49m\n\u001b[1;32m      8\u001b[0m \u001b[38;5;66;03m# The following code will not be executed because the exception is not handled\u001b[39;00m\n\u001b[1;32m      9\u001b[0m \u001b[38;5;28mprint\u001b[39m(\u001b[38;5;124m\"\u001b[39m\u001b[38;5;124mThis line will not be reached.\u001b[39m\u001b[38;5;124m\"\u001b[39m)\n",
      "Cell \u001b[0;32mIn[1], line 2\u001b[0m, in \u001b[0;36mdivide_numbers\u001b[0;34m(a, b)\u001b[0m\n\u001b[1;32m      1\u001b[0m \u001b[38;5;28;01mdef\u001b[39;00m \u001b[38;5;21mdivide_numbers\u001b[39m(a, b):\n\u001b[0;32m----> 2\u001b[0m     result \u001b[38;5;241m=\u001b[39m \u001b[43ma\u001b[49m\u001b[43m \u001b[49m\u001b[38;5;241;43m/\u001b[39;49m\u001b[43m \u001b[49m\u001b[43mb\u001b[49m\n\u001b[1;32m      3\u001b[0m     \u001b[38;5;28;01mreturn\u001b[39;00m result\n",
      "\u001b[0;31mZeroDivisionError\u001b[0m: division by zero"
     ]
    }
   ],
   "source": [
    "def divide_numbers(a, b):\n",
    "    result = a / b\n",
    "    return result\n",
    "\n",
    "# This function will raise a ZeroDivisionError when called\n",
    "result = divide_numbers(10, 0)\n",
    "\n",
    "# The following code will not be executed because the exception is not handled\n",
    "print(\"This line will not be reached.\")\n"
   ]
  },
  {
   "cell_type": "markdown",
   "id": "75ff0eb3-6de3-4613-bc39-9f7da44b7175",
   "metadata": {},
   "source": [
    "Which Python statements are used to catch and handle exceptions? Explain with\n",
    "n example"
   ]
  },
  {
   "cell_type": "markdown",
   "id": "fda837c2-c5cd-42e8-8d45-8873ccd5c9af",
   "metadata": {},
   "source": [
    "In Python, the try, except, else, and finally statements are used for catching and handling exceptions. Here's how they work:\n",
    "\n",
    "try: The try block contains the code that might raise an exception.\n",
    "\n",
    "except: The except block specifies the code that will be executed if a specific exception is raised within the try block. You can have multiple except blocks to handle different types of exceptions.\n",
    "\n",
    "else: The else block contains code that will be executed if no exceptions are raised in the try block.\n",
    "\n",
    "finally: The finally block contains code that will be executed regardless of whether an exception is raised or not. This block is often used for cleanup operations."
   ]
  },
  {
   "cell_type": "code",
   "execution_count": 2,
   "id": "bc009a81-597d-430f-8c6b-fee11f3e151c",
   "metadata": {},
   "outputs": [
    {
     "name": "stdout",
     "output_type": "stream",
     "text": [
      "Cannot divide by zero!\n",
      "This block always executes, whether there is an exception or not.\n"
     ]
    }
   ],
   "source": [
    "def divide_numbers(a, b):\n",
    "    try:\n",
    "        result = a / b\n",
    "    except ZeroDivisionError:\n",
    "        print(\"Cannot divide by zero!\")\n",
    "    else:\n",
    "        print(f\"The result of {a} divided by {b} is: {result}\")\n",
    "    finally:\n",
    "        print(\"This block always executes, whether there is an exception or not.\")\n",
    "\n",
    "# Example 1: Handling an exception\n",
    "divide_numbers(10, 0)\n"
   ]
  },
  {
   "cell_type": "markdown",
   "id": "81f1a236-83c7-4ce9-8ebc-ada70221de79",
   "metadata": {},
   "source": [
    "Q4. Explain withan example:try,else,finally ,raise"
   ]
  },
  {
   "cell_type": "code",
   "execution_count": 3,
   "id": "7b41330c-89d7-4e9e-b689-a24b5cb42467",
   "metadata": {},
   "outputs": [
    {
     "name": "stdout",
     "output_type": "stream",
     "text": [
      "KeyError: 'divisor'. Make sure the dictionary has 'value' and 'divisor' keys.\n",
      "Processing complete.\n",
      "Error: Cannot divide by zero.\n",
      "Processing complete.\n",
      "The result is: 5.0\n",
      "Processing complete.\n",
      "Caught an exception: This is a custom exception.\n",
      "Exception handling complete.\n"
     ]
    }
   ],
   "source": [
    "def process_data(data):\n",
    "    try:\n",
    "        # Attempt to process the data\n",
    "        result = data['value'] / data['divisor']\n",
    "    except KeyError as e:\n",
    "        print(f\"KeyError: {e}. Make sure the dictionary has 'value' and 'divisor' keys.\")\n",
    "    except ZeroDivisionError:\n",
    "        print(\"Error: Cannot divide by zero.\")\n",
    "    else:\n",
    "        # This block executes if no exceptions occur\n",
    "        print(f\"The result is: {result}\")\n",
    "    finally:\n",
    "        # This block always executes, regardless of whether an exception occurred or not\n",
    "        print(\"Processing complete.\")\n",
    "\n",
    "# Example 1: Handling a KeyError\n",
    "data1 = {'value': 10}\n",
    "process_data(data1)\n",
    "\n",
    "# Example 2: Handling a ZeroDivisionError\n",
    "data2 = {'value': 10, 'divisor': 0}\n",
    "process_data(data2)\n",
    "\n",
    "# Example 3: Successful execution\n",
    "data3 = {'value': 20, 'divisor': 4}\n",
    "process_data(data3)\n",
    "\n",
    "# Example 4: Using raise to trigger a custom exception\n",
    "def custom_exception_example():\n",
    "    try:\n",
    "        raise ValueError(\"This is a custom exception.\")\n",
    "    except ValueError as e:\n",
    "        print(f\"Caught an exception: {e}\")\n",
    "    finally:\n",
    "        print(\"Exception handling complete.\")\n",
    "\n",
    "# Example 4: Using raise to trigger a custom exception\n",
    "custom_exception_example()\n"
   ]
  },
  {
   "cell_type": "markdown",
   "id": "6789cd12-95d6-496a-a370-ca17e3c4582e",
   "metadata": {},
   "source": [
    "The process_data function attempts to process a dictionary data containing a 'value' and a 'divisor'. It uses a try block to attempt the division operation.\n",
    "\n",
    "The except blocks handle specific exceptions: KeyError if the required keys are not present, and ZeroDivisionError if attempting to divide by zero.\n",
    "\n",
    "The else block contains code that executes if no exceptions occur. In this case, it prints the result of the division.\n",
    "\n",
    "The finally block contains code that always executes, regardless of whether an exception occurred or not. In this case, it prints a completion message.\n",
    "\n",
    "In the second part of the example, the custom_exception_example function uses the raise statement to trigger a custom ValueError exception. The except block catches this exception and prints a message.\n",
    "\n",
    "When you run this code, you'll see the output for each scenario, including the handling of exceptions and the execution of the else and finally blocks. The raise statement demonstrates how to trigger and catch custom exceptions"
   ]
  },
  {
   "cell_type": "markdown",
   "id": "49f9fa42-cb65-4323-844e-6f2d65ba0483",
   "metadata": {},
   "source": [
    "Q5. What are Custom Exceptions in python? Why do we need Custom Exceptions? Explain with\n",
    "n example"
   ]
  },
  {
   "cell_type": "markdown",
   "id": "6de9513f-7ca8-4c3c-9eb6-eb3f79afe460",
   "metadata": {},
   "source": [
    "Custom exceptions in Python are user-defined exceptions that allow you to create your own exceptional conditions and handle them in a way that makes sense for your application. While Python provides a variety of built-in exceptions for common error scenarios, there are cases where you may encounter specific errors or conditions unique to your program. In such situations, creating custom exceptions can improve code readability and help you manage errors more effectively.\n",
    "\n",
    "Here's why you might need custom exceptions:\n",
    "\n",
    "Clarity and Readability: Custom exceptions allow you to give meaningful names to specific error conditions in your code, making it easier to understand the nature of the problem.\n",
    "\n",
    "Modularity: By creating custom exceptions, you can encapsulate error-handling logic in a modular way. This makes it easier to update or modify error-handling behavior without affecting the rest of your code.\n",
    "\n",
    "Granular Error Handling: Custom exceptions let you handle different error scenarios in a more granular manner. You can catch specific custom exceptions and take appropriate actions based on the nature of the error."
   ]
  },
  {
   "cell_type": "code",
   "execution_count": 4,
   "id": "3ba6e619-8485-418d-8b88-8edd067e2bc9",
   "metadata": {},
   "outputs": [
    {
     "name": "stdout",
     "output_type": "stream",
     "text": [
      "Processing the positive number: 5\n",
      "Error: Negative values are not allowed: -2\n"
     ]
    }
   ],
   "source": [
    "# Define a custom exception class\n",
    "class NegativeValueError(Exception):\n",
    "    def __init__(self, value):\n",
    "        self.value = value\n",
    "        super().__init__(f\"Negative values are not allowed: {value}\")\n",
    "\n",
    "# Function that processes a positive number\n",
    "def process_positive_number(number):\n",
    "    try:\n",
    "        if number < 0:\n",
    "            raise NegativeValueError(number)\n",
    "        else:\n",
    "            print(f\"Processing the positive number: {number}\")\n",
    "    except NegativeValueError as e:\n",
    "        print(f\"Error: {e}\")\n",
    "\n",
    "# Example usage\n",
    "process_positive_number(5)  # This will print \"Processing the positive number: 5\"\n",
    "process_positive_number(-2)  # This will print \"Error: Negative values are not allowed: -2\"\n"
   ]
  },
  {
   "cell_type": "markdown",
   "id": "ee10f9ef-d0f4-43f6-b23b-ea7bb391e82a",
   "metadata": {},
   "source": [
    "Q6. Create custom exception class. Use this class to handle\n",
    "an exception."
   ]
  },
  {
   "cell_type": "code",
   "execution_count": 6,
   "id": "bae52f81-acb1-43da-bbb8-a8f45c531983",
   "metadata": {},
   "outputs": [
    {
     "name": "stdout",
     "output_type": "stream",
     "text": [
      "Processing the input: 20\n",
      "Error: Invalid input: invalid\n"
     ]
    }
   ],
   "source": [
    "# Define a custom exception class\n",
    "class InvalidInputError(Exception):\n",
    "    def __init__(self, input_value):\n",
    "        self.input_value = input_value\n",
    "        super().__init__(f\"Invalid input: {input_value}\")\n",
    "\n",
    "# Function that processes input\n",
    "def process_input(input_data):\n",
    "    try:\n",
    "        if not isinstance(input_data, int):\n",
    "            raise InvalidInputError(input_data)\n",
    "        else:\n",
    "            result = input_data * 2\n",
    "            print(f\"Processing the input: {result}\")\n",
    "    except InvalidInputError as e:\n",
    "        print(f\"Error: {e}\")\n",
    "\n",
    "# Example usage\n",
    "process_input(10)  # This will print \"Processing the input: 20\"\n",
    "process_input(\"invalid\")  # This will print \"Error: Invalid input: invalid\"\n"
   ]
  },
  {
   "cell_type": "code",
   "execution_count": null,
   "id": "84fdac70-aee0-46f0-b808-4b1d9fe50136",
   "metadata": {},
   "outputs": [],
   "source": []
  }
 ],
 "metadata": {
  "kernelspec": {
   "display_name": "Python 3 (ipykernel)",
   "language": "python",
   "name": "python3"
  },
  "language_info": {
   "codemirror_mode": {
    "name": "ipython",
    "version": 3
   },
   "file_extension": ".py",
   "mimetype": "text/x-python",
   "name": "python",
   "nbconvert_exporter": "python",
   "pygments_lexer": "ipython3",
   "version": "3.10.8"
  }
 },
 "nbformat": 4,
 "nbformat_minor": 5
}
