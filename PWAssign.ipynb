{
 "cells": [
  {
   "cell_type": "markdown",
   "id": "bee77277-77c0-4118-a9ea-c1977a880f8d",
   "metadata": {},
   "source": [
    "#python assignment"
   ]
  },
  {
   "cell_type": "markdown",
   "id": "0c918f55-968e-45fb-bb79-96cacbc43985",
   "metadata": {},
   "source": [
    "Q1. Which keyword is used to create a function? Create a function to return a list of odd numbers in the\n",
    "range of 1 to 25.\n",
    "\n",
    "def keyword is used to create a function."
   ]
  },
  {
   "cell_type": "code",
   "execution_count": 2,
   "id": "b94e811e-1e09-47de-bc1e-453442497951",
   "metadata": {},
   "outputs": [],
   "source": [
    "def oddnum():\n",
    "    l=[]\n",
    "    for i in range(1,25):\n",
    "        if i%2!=0:\n",
    "            l.append(i)\n",
    "    return l       \n",
    "            "
   ]
  },
  {
   "cell_type": "code",
   "execution_count": 3,
   "id": "2b79da46-9fce-4dcf-ba9a-f730b7f3d4b9",
   "metadata": {},
   "outputs": [
    {
     "data": {
      "text/plain": [
       "[1, 3, 5, 7, 9, 11, 13, 15, 17, 19, 21, 23]"
      ]
     },
     "execution_count": 3,
     "metadata": {},
     "output_type": "execute_result"
    }
   ],
   "source": [
    "oddnum()"
   ]
  },
  {
   "cell_type": "markdown",
   "id": "4e584cb7-e807-4a13-a19a-fd6f92cea680",
   "metadata": {},
   "source": [
    "Q2. Why *args and **kwargs is used in some functions? Create a function each for *args and **kwargs to\n",
    "demonstrate their use.\n",
    "\n",
    "*args (Arbitrary Positional Arguments) is used to pass a variable number of positional arguments to a function. You can think of *args as a tuple of arguments.\n",
    "**kwargs (Arbitrary Keyword Arguments) is used to pass a variable number of keyword arguments to a function. You can think of **kwargs as a dictionary of keyword-value pairs"
   ]
  },
  {
   "cell_type": "code",
   "execution_count": 4,
   "id": "ab356dea-854c-4e89-bfc9-37d306439000",
   "metadata": {},
   "outputs": [],
   "source": [
    "def test1(*args):\n",
    "    return args"
   ]
  },
  {
   "cell_type": "code",
   "execution_count": 5,
   "id": "388db41a-7693-4356-8ad8-8919b9d236cd",
   "metadata": {},
   "outputs": [
    {
     "data": {
      "text/plain": [
       "(1, 2, 3, 4, 5)"
      ]
     },
     "execution_count": 5,
     "metadata": {},
     "output_type": "execute_result"
    }
   ],
   "source": [
    "test1(1,2,3,4,5)"
   ]
  },
  {
   "cell_type": "code",
   "execution_count": 6,
   "id": "d7f59a02-c38c-40a5-9797-0aded18717af",
   "metadata": {},
   "outputs": [],
   "source": [
    "def test2(**kwargs):\n",
    "    return kwargs"
   ]
  },
  {
   "cell_type": "code",
   "execution_count": 7,
   "id": "93c8744a-6a95-499b-9db7-2ef41c52e78c",
   "metadata": {},
   "outputs": [
    {
     "data": {
      "text/plain": [
       "{'a': 1, 'b': 'krish', 'c': 'nihar'}"
      ]
     },
     "execution_count": 7,
     "metadata": {},
     "output_type": "execute_result"
    }
   ],
   "source": [
    "test2(a=1,b=\"krish\",c=\"nihar\")"
   ]
  },
  {
   "cell_type": "markdown",
   "id": "071e482a-b4d3-477e-a335-d1f36788c629",
   "metadata": {},
   "source": [
    "Q3. What is an iterator in python? Name the method used to initialise the iterator object and the method\n",
    "used for iteration. Use these methods to print the first five elements of the given list [2, 4, 6, 8, 10, 12, 14, 16,\n",
    "18, 20].\n",
    "\n",
    "An iterator in Python is an object that represents a sequence of elements and allows you to traverse through the elements one at a time\n",
    "It provides two main methods:\n",
    "\n",
    "__iter__(): This method is used to initialize the iterator object. It should return the iterator object itself (i.e., self).\n",
    "\n",
    "__next__(): This method is used for iteration. It should return the next element from the sequence. If there are no more elements, it should raise the StopIteration exception."
   ]
  },
  {
   "cell_type": "code",
   "execution_count": 8,
   "id": "fc63f2d7-3c5c-4fd1-869a-a89858e5d393",
   "metadata": {},
   "outputs": [
    {
     "name": "stdout",
     "output_type": "stream",
     "text": [
      "2\n",
      "4\n",
      "6\n",
      "8\n",
      "10\n"
     ]
    }
   ],
   "source": [
    "class ListIterator:\n",
    "    def __init__(self, data):\n",
    "        self.data = data\n",
    "        self.index = 0\n",
    "\n",
    "    def __iter__(self):\n",
    "        return self\n",
    "\n",
    "    def __next__(self):\n",
    "        if self.index < 5:\n",
    "            result = self.data[self.index]\n",
    "            self.index += 1\n",
    "            return result\n",
    "        else:\n",
    "            raise StopIteration\n",
    "\n",
    "# Create an instance of the iterator\n",
    "my_iterator = ListIterator([2, 4, 6, 8, 10, 12, 14, 16, 18, 20])\n",
    "\n",
    "# Iterate and print the first five elements\n",
    "for element in my_iterator:\n",
    "    print(element)\n"
   ]
  },
  {
   "cell_type": "markdown",
   "id": "1f20ebb8-d109-4c81-8718-53167e4ae443",
   "metadata": {},
   "source": [
    "Q4. What is a generator function in python? Why yield keyword is used? Give an example of a generator\n",
    "function.\n",
    "\n",
    "A generator function in Python is a special type of function that allows you to iterate over a potentially large sequence of items without creating and storing all the items in memory at once. It generates values on-the-fly, making it memory-efficient. Generators are particularly useful when you need to work with large datasets or when you want to create an iterable sequence without loading everything into memory.\n",
    "\n",
    "The key feature of a generator function is the use of the yield keyword. When you use yield in a function, it turns that function into a generator."
   ]
  },
  {
   "cell_type": "code",
   "execution_count": 9,
   "id": "0bd69cde-663d-44a6-ab4e-de69f2782d67",
   "metadata": {},
   "outputs": [
    {
     "name": "stdout",
     "output_type": "stream",
     "text": [
      "0\n",
      "1\n",
      "4\n",
      "9\n",
      "16\n"
     ]
    }
   ],
   "source": [
    "def square_numbers(n):\n",
    "    for i in range(n):\n",
    "        yield i ** 2\n",
    "\n",
    "# Create a generator object\n",
    "my_generator = square_numbers(5)\n",
    "\n",
    "# Iterate and print the square numbers\n",
    "for num in my_generator:\n",
    "    print(num)\n"
   ]
  },
  {
   "cell_type": "markdown",
   "id": "11961d3f-600d-4abf-a8a2-a9a2bdce065e",
   "metadata": {},
   "source": [
    "Q5. Create a generator function for prime numbers less than 1000. Use the next() method to print the\n",
    "first 20 prime numbers."
   ]
  },
  {
   "cell_type": "code",
   "execution_count": 10,
   "id": "451afc4a-5e8f-4eb7-a1fd-74ebe969624d",
   "metadata": {},
   "outputs": [
    {
     "name": "stdout",
     "output_type": "stream",
     "text": [
      "2\n",
      "3\n",
      "5\n",
      "7\n",
      "11\n",
      "13\n",
      "17\n",
      "19\n",
      "23\n",
      "29\n",
      "31\n",
      "37\n",
      "41\n",
      "43\n",
      "47\n",
      "53\n",
      "59\n",
      "61\n",
      "67\n",
      "71\n"
     ]
    }
   ],
   "source": [
    "def fun1(limit):\n",
    "    primes = []\n",
    "    num = 2\n",
    "    while num < limit:\n",
    "        if all(num % p != 0 for p in primes):\n",
    "            yield num\n",
    "            primes.append(num)\n",
    "        num += 1\n",
    "\n",
    "# Create a generator for prime numbers less than 1000\n",
    "prime_generator = fun1(1000)\n",
    "\n",
    "# Print the first 20 prime numbers\n",
    "for _ in range(20):\n",
    "    prime = next(prime_generator)\n",
    "    print(prime)\n"
   ]
  },
  {
   "cell_type": "code",
   "execution_count": null,
   "id": "a85e50e7-df9a-4e74-b329-62694a607efb",
   "metadata": {},
   "outputs": [],
   "source": []
  }
 ],
 "metadata": {
  "kernelspec": {
   "display_name": "Python 3 (ipykernel)",
   "language": "python",
   "name": "python3"
  },
  "language_info": {
   "codemirror_mode": {
    "name": "ipython",
    "version": 3
   },
   "file_extension": ".py",
   "mimetype": "text/x-python",
   "name": "python",
   "nbconvert_exporter": "python",
   "pygments_lexer": "ipython3",
   "version": "3.10.8"
  }
 },
 "nbformat": 4,
 "nbformat_minor": 5
}
