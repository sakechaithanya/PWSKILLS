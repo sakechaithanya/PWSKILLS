{
 "cells": [
  {
   "cell_type": "markdown",
   "id": "4327c481-42e0-4583-b799-407b0802fe35",
   "metadata": {},
   "source": [
    "Q1. Create a python program to sort the given list of tuples based on integer value using a\n",
    "lambda function.\n",
    "[('Sachin Tendulkar', 34357), ('Ricky Ponting', 27483), ('Jack Kallis', 25534), ('Virat Kohli', 24936)]"
   ]
  },
  {
   "cell_type": "code",
   "execution_count": 41,
   "id": "09fc1d0f-e4e4-4446-aac0-93e9ad11c08f",
   "metadata": {},
   "outputs": [],
   "source": [
    "people=[('Sachin Tendulkar', 34357), ('Ricky Ponting', 27483), ('Jack Kallis', 25534), ('Virat Kohli', 24936)]"
   ]
  },
  {
   "cell_type": "code",
   "execution_count": 46,
   "id": "a0b73b54-4d71-4d6e-9df3-d5902b8cd8e0",
   "metadata": {},
   "outputs": [
    {
     "name": "stdout",
     "output_type": "stream",
     "text": [
      "Virat Kohli 24936\n",
      "Jack Kallis 25534\n",
      "Ricky Ponting 27483\n",
      "Sachin Tendulkar 34357\n"
     ]
    }
   ],
   "source": [
    "sorted_players = sorted(people, key=lambda x: x[1])\n",
    "\n",
    "# Print the sorted list\n",
    "for player in sorted_players:\n",
    "    print(player[0], player[1])"
   ]
  },
  {
   "cell_type": "code",
   "execution_count": null,
   "id": "a8b8ede8-a15e-4920-8d8e-1053c4c12710",
   "metadata": {},
   "outputs": [],
   "source": []
  },
  {
   "cell_type": "markdown",
   "id": "96aa860f-6275-4ea0-b1ea-f83656042f01",
   "metadata": {},
   "source": [
    "Q2. Write a Python Program to find the squares of all the numbers in the given list of integers using\n",
    "lambda and map functions.\n",
    "[1, 2, 3, 4, 5, 6, 7, 8, 9, 10]"
   ]
  },
  {
   "cell_type": "code",
   "execution_count": 17,
   "id": "025597e0-f60f-449b-b849-d1440203a441",
   "metadata": {},
   "outputs": [],
   "source": [
    "li=[1, 2, 3, 4, 5, 6, 7, 8, 9, 10]"
   ]
  },
  {
   "cell_type": "code",
   "execution_count": 19,
   "id": "aa4ed440-b3dd-4256-958e-dfc768c2ed90",
   "metadata": {},
   "outputs": [
    {
     "data": {
      "text/plain": [
       "[1, 4, 9, 16, 25, 36, 49, 64, 81, 100]"
      ]
     },
     "execution_count": 19,
     "metadata": {},
     "output_type": "execute_result"
    }
   ],
   "source": [
    "list(map(lambda x: x**2,li))"
   ]
  },
  {
   "cell_type": "markdown",
   "id": "a79714bb-f1c1-4c16-bfdc-3b7fb1f67a16",
   "metadata": {},
   "source": [
    "Q3. Write a python program to convert the given list of integers into a tuple of strings. Use map and\n",
    "lambda functions\n",
    "Given String: [1, 2, 3, 4, 5, 6, 7, 8, 9, 10]\n",
    "Expected output: ('1', '2', '3', '4', '5', '6', '7', '8', '9', '10')"
   ]
  },
  {
   "cell_type": "code",
   "execution_count": 20,
   "id": "12e89603-4a73-42af-9499-fe6a86761b71",
   "metadata": {},
   "outputs": [],
   "source": [
    "inp=[1, 2, 3, 4, 5, 6, 7, 8, 9, 10]"
   ]
  },
  {
   "cell_type": "code",
   "execution_count": 21,
   "id": "3f870e4c-ce45-486c-a34d-4bca5b3a4552",
   "metadata": {},
   "outputs": [
    {
     "data": {
      "text/plain": [
       "('1', '2', '3', '4', '5', '6', '7', '8', '9', '10')"
      ]
     },
     "execution_count": 21,
     "metadata": {},
     "output_type": "execute_result"
    }
   ],
   "source": [
    "tuple(map(lambda x:str(x),inp))"
   ]
  },
  {
   "cell_type": "markdown",
   "id": "278c64f8-8ace-4106-aac5-a39b7a7b42fc",
   "metadata": {},
   "source": [
    "Q4. Write a python program using reduce function to compute the product of a list containing numbers\n",
    "from 1 to 25."
   ]
  },
  {
   "cell_type": "code",
   "execution_count": 26,
   "id": "c81a39e4-6135-42c0-bba6-c7fea3dc1a10",
   "metadata": {},
   "outputs": [
    {
     "data": {
      "text/plain": [
       "[1,\n",
       " 2,\n",
       " 3,\n",
       " 4,\n",
       " 5,\n",
       " 6,\n",
       " 7,\n",
       " 8,\n",
       " 9,\n",
       " 10,\n",
       " 11,\n",
       " 12,\n",
       " 13,\n",
       " 14,\n",
       " 15,\n",
       " 16,\n",
       " 17,\n",
       " 18,\n",
       " 19,\n",
       " 20,\n",
       " 21,\n",
       " 22,\n",
       " 23,\n",
       " 24,\n",
       " 25]"
      ]
     },
     "execution_count": 26,
     "metadata": {},
     "output_type": "execute_result"
    }
   ],
   "source": [
    "linp1=[]\n",
    "for i in range(1,26):\n",
    "    linp1.append(i)\n",
    "linp1    "
   ]
  },
  {
   "cell_type": "code",
   "execution_count": 27,
   "id": "4053dbcd-1b98-4370-a0de-83efcaa0a89d",
   "metadata": {},
   "outputs": [],
   "source": [
    "def my_p(a, b):\n",
    "    return a * b"
   ]
  },
  {
   "cell_type": "code",
   "execution_count": 29,
   "id": "8a134034-bacd-47f3-9981-d54890c8ebb7",
   "metadata": {},
   "outputs": [],
   "source": [
    "from functools import reduce"
   ]
  },
  {
   "cell_type": "code",
   "execution_count": 30,
   "id": "b7a18a0f-f52e-43b3-9d24-c56a7f5bd455",
   "metadata": {},
   "outputs": [
    {
     "data": {
      "text/plain": [
       "15511210043330985984000000"
      ]
     },
     "execution_count": 30,
     "metadata": {},
     "output_type": "execute_result"
    }
   ],
   "source": [
    "reduce(my_p,linp1)"
   ]
  },
  {
   "cell_type": "markdown",
   "id": "07d1813d-415a-46ca-ba93-02c2accfa9c7",
   "metadata": {},
   "source": [
    "Q5. Write a python program to filter the numbers in a given list that are divisible by 2 and 3 using the\n",
    "filter function.\n",
    "[2, 3, 6, 9, 27, 60, 90, 120, 55, 46]"
   ]
  },
  {
   "cell_type": "code",
   "execution_count": 32,
   "id": "a8b91900-aa62-49d9-8754-3b45af5fb6b6",
   "metadata": {},
   "outputs": [],
   "source": [
    "num=[2, 3, 6, 9, 27, 60, 90, 120, 55, 46]"
   ]
  },
  {
   "cell_type": "code",
   "execution_count": 31,
   "id": "f19de51a-cad8-46bd-8ace-c9bf07335472",
   "metadata": {},
   "outputs": [],
   "source": [
    "def div(i):\n",
    "      if i%2==0 or i%3==0:\n",
    "            return i\n",
    "    \n",
    "    "
   ]
  },
  {
   "cell_type": "code",
   "execution_count": 34,
   "id": "7731cf14-594a-4367-8554-ac35f26c21bf",
   "metadata": {},
   "outputs": [
    {
     "data": {
      "text/plain": [
       "[2, 3, 6, 9, 27, 60, 90, 120, 46]"
      ]
     },
     "execution_count": 34,
     "metadata": {},
     "output_type": "execute_result"
    }
   ],
   "source": [
    "list(filter(div,num))"
   ]
  },
  {
   "cell_type": "markdown",
   "id": "a4c6b00d-ff86-457f-9e47-0b49063a4420",
   "metadata": {},
   "source": [
    "Q6. Write a python program to find palindromes in the given list of strings using lambda and filter\n",
    "function.\n",
    "['python', 'php', 'aba', 'radar', 'level']"
   ]
  },
  {
   "cell_type": "code",
   "execution_count": 38,
   "id": "d3401778-a876-47f1-9417-c16c9ab3782c",
   "metadata": {},
   "outputs": [],
   "source": [
    "words=['python', 'php', 'aba', 'radar', 'level']"
   ]
  },
  {
   "cell_type": "code",
   "execution_count": 39,
   "id": "849dcb73-d456-486e-9be0-ecfbaf857e43",
   "metadata": {},
   "outputs": [],
   "source": [
    "pal=lambda s: s==s[::-1]"
   ]
  },
  {
   "cell_type": "code",
   "execution_count": 40,
   "id": "86e84e94-4aba-4390-b0f5-a8c1133d3603",
   "metadata": {},
   "outputs": [
    {
     "data": {
      "text/plain": [
       "['php', 'aba', 'radar', 'level']"
      ]
     },
     "execution_count": 40,
     "metadata": {},
     "output_type": "execute_result"
    }
   ],
   "source": [
    "list(filter(pal,words))"
   ]
  },
  {
   "cell_type": "code",
   "execution_count": null,
   "id": "6e0da31b-00f4-4025-ba6b-59471b55c4fd",
   "metadata": {},
   "outputs": [],
   "source": []
  },
  {
   "cell_type": "code",
   "execution_count": null,
   "id": "3e14bcc0-7eb6-4519-b60e-a64b682bb8ba",
   "metadata": {},
   "outputs": [],
   "source": []
  },
  {
   "cell_type": "code",
   "execution_count": null,
   "id": "2e6278c1-60a5-4673-b09c-d0b780b286ca",
   "metadata": {},
   "outputs": [],
   "source": []
  },
  {
   "cell_type": "code",
   "execution_count": null,
   "id": "d0b6a43c-d2eb-4be8-8db4-1bd5ef59b139",
   "metadata": {},
   "outputs": [],
   "source": []
  },
  {
   "cell_type": "code",
   "execution_count": null,
   "id": "72fe4f96-9a6e-4045-9f42-791402e8c06d",
   "metadata": {},
   "outputs": [],
   "source": []
  },
  {
   "cell_type": "code",
   "execution_count": null,
   "id": "f8cc9d9e-f82f-4804-a9b7-ea343271dd4f",
   "metadata": {},
   "outputs": [],
   "source": []
  },
  {
   "cell_type": "code",
   "execution_count": null,
   "id": "87085955-cb6d-49f6-9f8a-f1474655fa94",
   "metadata": {},
   "outputs": [],
   "source": []
  }
 ],
 "metadata": {
  "kernelspec": {
   "display_name": "Python 3 (ipykernel)",
   "language": "python",
   "name": "python3"
  },
  "language_info": {
   "codemirror_mode": {
    "name": "ipython",
    "version": 3
   },
   "file_extension": ".py",
   "mimetype": "text/x-python",
   "name": "python",
   "nbconvert_exporter": "python",
   "pygments_lexer": "ipython3",
   "version": "3.10.8"
  }
 },
 "nbformat": 4,
 "nbformat_minor": 5
}
